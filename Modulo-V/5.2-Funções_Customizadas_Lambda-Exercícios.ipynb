{
 "cells": [
  {
   "cell_type": "markdown",
   "id": "cbdff5a5",
   "metadata": {},
   "source": [
    "# Módulo 5 - Funções\n",
    "\n",
    "## Aulas 5.2 - Funções Customizadas e 5.4 Funções ```lambda```"
   ]
  },
  {
   "cell_type": "markdown",
   "id": "28a3fee2",
   "metadata": {},
   "source": [
    "### Q1.\n",
    "\n",
    "- Sabendo que o código a seguir calcula o fatorial de n, escreva uma função chamada ```fatorial()``` que recebe um inteiro ```n``` como parâmetro e retorna o resultado do fatorial de ```n```. \n",
    "- No programa principal, peça ao usuário o valor de ```n```, chame a sua função e imprima o retorno.\n",
    "\n",
    "```python\n",
    "fat = 1\n",
    "for i in range(1, n+1):\n",
    "    fat *= i \n",
    "```"
   ]
  },
  {
   "cell_type": "code",
   "execution_count": 19,
   "id": "d126b3a5",
   "metadata": {},
   "outputs": [],
   "source": [
    "def fatorial(valor):\n",
    "    fat = 1\n",
    "    for i in range(1,valor+1):\n",
    "        fat*=i\n",
    "    return fat"
   ]
  },
  {
   "cell_type": "code",
   "execution_count": 20,
   "id": "6e4fe64e",
   "metadata": {},
   "outputs": [
    {
     "name": "stdout",
     "output_type": "stream",
     "text": [
      "3! é 6\n"
     ]
    }
   ],
   "source": [
    "n=int(input(\"Digite o número : \"))\n",
    "meu_fatorial=fatorial(n)\n",
    "print(f\"{n}! é {meu_fatorial}\")\n"
   ]
  },
  {
   "cell_type": "markdown",
   "id": "c0a1f599",
   "metadata": {},
   "source": [
    "### Q2.\n",
    "\n",
    "- Escreva uma função em Python chamada ```soma_quadrados``` que recebe dois números como parâmetros e retorna a soma dos seus quadrados. \n",
    "- No programa principal solicite ao usuário que insira dois números e utilize a função para exibir a soma dos quadrados."
   ]
  },
  {
   "cell_type": "code",
   "execution_count": 26,
   "id": "6dbddaad",
   "metadata": {},
   "outputs": [],
   "source": [
    "## Crie aqui a função soma_quadrados()\n",
    "def soma_quarados(v1,v2):\n",
    "    v1=v1**2\n",
    "    v2= v2**2\n",
    "    soma_quarados=v1+v2\n",
    "    return soma_quarados"
   ]
  },
  {
   "cell_type": "code",
   "execution_count": 29,
   "id": "9175a7da",
   "metadata": {},
   "outputs": [
    {
     "name": "stdout",
     "output_type": "stream",
     "text": [
      "A soma dos quadrados é  13\n"
     ]
    }
   ],
   "source": [
    "## Escreva aqui o programa principal e execute a célula\n",
    "n1=int(input(\"Digite o primeiro número\"))\n",
    "n2=int(input(\"Digite o segundo número\"))\n",
    "quadrados= soma_quarados(n1,n2)\n",
    "print(\"A soma dos quadrados é \",quadrados)"
   ]
  },
  {
   "cell_type": "markdown",
   "id": "6ba34ce0",
   "metadata": {},
   "source": [
    "### Q3.\n",
    "\n",
    "- Crie uma função em Python chamada ```soma_digitos``` que recebe um número inteiro como parâmetro e retorna a soma dos seus dígitos. Por exemplo, para o número 123, a função deve retornar 6, $(1 + 2 + 3)$.\n",
    "    - O desafio aqui é separar os dígitos de um número inteiro usando operações aritméticas <br> <br>\n",
    "\n",
    "- No programa principal solicite ao usuário que insira um número e utilize a função ```soma_digitos``` para calcular e exibir a soma dos seus dígitos."
   ]
  },
  {
   "cell_type": "code",
   "execution_count": 35,
   "id": "34838ebf",
   "metadata": {},
   "outputs": [],
   "source": [
    "## Crie aqui a função soma_digitos()\n",
    "def soma_digitos(s):\n",
    "    total=0\n",
    "    while s >0:\n",
    "        resto = s % 10\n",
    "        total=total+resto\n",
    "        s = s // 10\n",
    "    return(total)\n"
   ]
  },
  {
   "cell_type": "code",
   "execution_count": 37,
   "id": "27c35b21",
   "metadata": {},
   "outputs": [
    {
     "name": "stdout",
     "output_type": "stream",
     "text": [
      "A soma dos dígitos é  10\n"
     ]
    }
   ],
   "source": [
    "## Escreva aqui o programa principal e execute a célula\n",
    "n3=int(input(\"Digite os números que deseja somar\"))\n",
    "digitos=soma_digitos(n3)\n",
    "print(\"A soma dos dígitos é \",digitos)"
   ]
  },
  {
   "cell_type": "markdown",
   "id": "c318b159",
   "metadata": {},
   "source": [
    "### Q4.\n",
    "\n",
    "- Crie a função ```inverteValor()``` que recebe um inteiro de qualquer tamanho e retorna esse valor invertido usando apenas operações aritméticas\n",
    "- Crie a função ```verificaInverso()``` que recebe o valor original e o valor invertido e retorna verdadeiro se ambos forem igualmente par ou igualmente ímpar. Retorne falso caso contrário.\n",
    "- No programa principal, peça um valor do usuário e imprima o retorno de ambas as funções.\n"
   ]
  },
  {
   "cell_type": "code",
   "execution_count": 23,
   "id": "e4e47d1d",
   "metadata": {},
   "outputs": [],
   "source": [
    "## Crie aqui as funções inverteValor() e verificaInverso()\n",
    "\n",
    "def inverteValor(valor):\n",
    "    valor_invertido = 0\n",
    "    while valor > 0:\n",
    "        digito = valor % 10\n",
    "        valor_invertido = valor_invertido * 10 + digito\n",
    "        valor = valor // 10\n",
    "    return valor_invertido\n",
    "\n",
    "def verificaInverso(valor, valor_invertido):\n",
    "    ambos_pares = valor % 2 == 0 and valor_invertido % 2 == 0\n",
    "    ambos_impares = valor % 2 != 0 and valor_invertido % 2 != 0\n",
    "    eh_inverso = ambos_pares or ambos_impares\n",
    "    return eh_inverso"
   ]
  },
  {
   "cell_type": "code",
   "execution_count": 25,
   "id": "a9514e56",
   "metadata": {},
   "outputs": [
    {
     "name": "stdout",
     "output_type": "stream",
     "text": [
      "Valor invertido: 1\n",
      "Ambos têm mesma paridade (par ou ímpar)? False\n"
     ]
    }
   ],
   "source": [
    "## Escreva aqui o programa principal e execute a célula\n",
    "n=int(input(\"Digite um valor de 2 ou mais dígitos\"))\n",
    "n_invertido = inverteValor(n)\n",
    "print(\"Valor invertido:\", n_invertido)\n",
    "print(\"Ambos têm mesma paridade (par ou ímpar)?\", verificaInverso(n, n_invertido))"
   ]
  },
  {
   "cell_type": "markdown",
   "id": "329be966",
   "metadata": {},
   "source": [
    "### Q5.\n",
    "\n",
    "Você está desenvolvendo um programa para auxiliar em cálculos de geometria básica. Crie as seguintes funções:\n",
    "- A função ```calcula_perimetro_triangulo()``` que recebe três inteiros correspondentes aos lados de um triângulo e retorna o perímetro do triângulo, ou seja, a soma dos seus lados.\n",
    "- A função ```calcula_perimetro_circulo()``` que recebe um inteiro referente ao raio do círculo e retorna o perímetro do círculo, dado por $2 \\pi r$. Use a constante $\\pi$ da biblioteca ```math```.\n",
    "- A função ```calcula_perimetro_retangulo()``` que possui um parâmetro obrigatório ```lado1``` e um opcional ```lado2```, ambos inteiros. Se o valor opcional não for fornecido, significa que se trata de um quadrado. Sua função deve calcular e retornar o perímetro do retângulo, ou seja, a soma de seus lados. \n",
    "    - Para o quadrado, é dado por $4 \\times lado1$\n",
    "    - Para o retângulo é dado por $2 \\times lado1 + 2 \\times lado2$\n",
    "    \n",
    "- No programa principal apresente um menu com as opções disponíveis do seu sistema e uma quarta opção ```Sair```. Solicite ao usuário a opção desejada, solicite as entradas correspondentes à opção escolhida, invoque a respective função e apresente o seu retorno. Seu programa deve retornar ao menu até que o usuário escolha a opção ```Sair```\n",
    "\n",
    "Exemplo de interação:\n",
    "```\n",
    "1 - Calcular perímetro triângulo\n",
    "2 - Calcular perímetro círculo\n",
    "3 - Calcular perímetro retângulo\n",
    "4 - Sair\n",
    "\n",
    "Opção: 1\n",
    "Digite os três lados do triângulo:\n",
    "3\n",
    "4\n",
    "5\n",
    "O perímetro é: 12\n",
    "\n",
    "1 - Calcular perímetro triângulo\n",
    "2 - Calcular perímetro círculo\n",
    "3 - Calcular perímetro retângulo\n",
    "4 - Sair\n",
    "\n",
    "Opção: 3\n",
    "Informe os dois lados do retângulo. Se for um quadrado, digite 0 para o segundo valor:\n",
    "5\n",
    "0\n",
    "O perímetro é: 20\n",
    "\n",
    "1 - Calcular perímetro triângulo\n",
    "2 - Calcular perímetro círculo\n",
    "3 - Calcular perímetro retângulo\n",
    "4 - Sair\n",
    "\n",
    "Opção: 4\n",
    "```"
   ]
  },
  {
   "cell_type": "code",
   "execution_count": 39,
   "id": "0793d328",
   "metadata": {},
   "outputs": [],
   "source": [
    "import math\n",
    "\n",
    "def calcula_perimetro_triangulo(t1, t2, t3):\n",
    "    return t1 + t2 + t3\n",
    "\n",
    "def calcula_perimetro_circulo(raio):\n",
    "    return 2 * math.pi * raio\n",
    "\n",
    "def calcula_perimetro_retangulo(lado1, lado2=None):\n",
    "    if lado2 is None:\n",
    "        return 4 * lado1\n",
    "    else:\n",
    "        return 2 * lado1 + 2 * lado2\n"
   ]
  },
  {
   "cell_type": "code",
   "execution_count": 42,
   "id": "36269c71",
   "metadata": {},
   "outputs": [
    {
     "name": "stdout",
     "output_type": "stream",
     "text": [
      "\n",
      "Escolha uma opção:\n",
      "(1) Triângulo\n",
      "(2) Círculo\n",
      "(3) Retângulo ou Quadrado\n",
      "(4) Sair\n",
      "Perímetro do triângulo: 11.00\n",
      "\n",
      "Escolha uma opção:\n",
      "(1) Triângulo\n",
      "(2) Círculo\n",
      "(3) Retângulo ou Quadrado\n",
      "(4) Sair\n",
      "Perímetro: 20\n",
      "\n",
      "Escolha uma opção:\n",
      "(1) Triângulo\n",
      "(2) Círculo\n",
      "(3) Retângulo ou Quadrado\n",
      "(4) Sair\n",
      "Saindo...\n"
     ]
    }
   ],
   "source": [
    "while True:\n",
    "    print(\"\\nEscolha uma opção:\")\n",
    "    print(\"(1) Triângulo\")\n",
    "    print(\"(2) Círculo\")\n",
    "    print(\"(3) Retângulo ou Quadrado\")\n",
    "    print(\"(4) Sair\")\n",
    "\n",
    "    opcao = input(\"Digite a opção desejada: \")\n",
    "\n",
    "    if opcao == \"1\":\n",
    "        t1 = int(input(\"Digite o lado 1 do triângulo: \"))\n",
    "        t2 = int(input(\"Digite o lado 2 do triângulo: \"))\n",
    "        t3 = int(input(\"Digite o lado 3 do triângulo: \"))\n",
    "        resultado = calcula_perimetro_triangulo(t1, t2, t3)\n",
    "        print(f\"Perímetro do triângulo: {resultado:.2f}\")\n",
    "\n",
    "    elif opcao == \"3\":\n",
    "        l1 = int(input(\"Digite o lado 1: \"))\n",
    "        l2 = int(input(\"Digite o lado 2 (se for um quadrado, digite 0): \"))\n",
    "\n",
    "        if l2 == 0:\n",
    "            resultado = calcula_perimetro_retangulo(l1)\n",
    "        else:\n",
    "            resultado = calcula_perimetro_retangulo(l1, l2)\n",
    "\n",
    "        print(f\"Perímetro: {resultado}\")\n",
    "\n",
    "    elif opcao == \"4\":\n",
    "        print(\"Saindo...\")\n",
    "        break\n",
    "\n",
    "    else:\n",
    "        print(\"Opção inválida. Tente novamente.\")\n"
   ]
  },
  {
   "cell_type": "markdown",
   "id": "3016bcc7",
   "metadata": {},
   "source": [
    "## Funções ```lambda```"
   ]
  },
  {
   "cell_type": "markdown",
   "id": "f9cdb8dd",
   "metadata": {},
   "source": [
    "### Q6.\n",
    "\n",
    "Crie uma função lambda para verificar se um número é par ou ímpar. Em seguida, solicite ao usuário um número indefinidos de valores (até que o usuário digite 0). Para cada valor de entrada, informe se é par ou ímpar.\n",
    "\n",
    "Exemplo de interação:\n",
    "```\n",
    "Digite os valores que deseja verificar a paridade (digite 0 para finalizar a entrada de dados):\n",
    "3\n",
    "ímpar\n",
    "8\n",
    "par\n",
    "12\n",
    "par\n",
    "5\n",
    "ímpar\n",
    "7ímpar\n",
    "```"
   ]
  },
  {
   "cell_type": "code",
   "execution_count": 11,
   "id": "e3c31a78",
   "metadata": {},
   "outputs": [
    {
     "name": "stdout",
     "output_type": "stream",
     "text": [
      "Digite os valores que deseja verificar a paridade (digite 0 para finalizar a entrada de dados):\n",
      "3 é ímpar\n",
      "8 é par\n",
      "12 é par\n",
      "5 é ímpar\n",
      "7 é ímpar\n"
     ]
    }
   ],
   "source": [
    "paridade = lambda x: \"par\" if x % 2 == 0 else \"ímpar\"\n",
    "\n",
    "print(\"Digite os valores que deseja verificar a paridade (digite 0 para finalizar a entrada de dados):\")\n",
    "\n",
    "while True:\n",
    "    v = int(input())\n",
    "    if v == 0:\n",
    "        break\n",
    "    print(f\"{v} é {paridade(v)}\")"
   ]
  },
  {
   "cell_type": "markdown",
   "id": "5a87474d",
   "metadata": {},
   "source": [
    "### Q7.\n",
    "\n",
    "Escreva um programa que pergunte ao usuário qual operação ele deseja: maior ou menor.\n",
    "Em seguida leia uma quantidade indefinida de valores do usuário, até que o usuário digite o valor zero.\n",
    "Apresente ao final o maior ou menor dos valores digitados de acordo com a escolha do usuário.\n",
    "\n",
    "**Sua solução deve incluir pelo menos uma função ```lambda```** \n",
    "\n",
    "Exemplo de interação:\n",
    "```\n",
    "Opções: (1) maior ou (2) menor?\n",
    "Opção: 1\n",
    "\n",
    "Digite os valores de entrada. Digite 0 para finalizar a entrada de valores.\n",
    "4\n",
    "12\n",
    "15\n",
    "1\n",
    "0\n",
    "\n",
    "O maior valor é: 15\n",
    "```"
   ]
  },
  {
   "cell_type": "code",
   "execution_count": 5,
   "id": "ee3f68ca",
   "metadata": {},
   "outputs": [
    {
     "name": "stdout",
     "output_type": "stream",
     "text": [
      "\n",
      "O maior valor é: 15\n"
     ]
    }
   ],
   "source": [
    "op = int(input(\"Opções: (1) maior ou (2) menor?\\nOpção: \"))\n",
    "\n",
    "if op == 1:\n",
    "    result = float(\"-inf\")\n",
    "    op_function = lambda a, b: a > b\n",
    "else:\n",
    "    result = float(\"inf\")\n",
    "    op_function = lambda a, b: a < b\n",
    "\n",
    "while True:\n",
    "    x = int(input())\n",
    "    if x == 0:\n",
    "        break\n",
    "    if op_function(x, result):\n",
    "        result = x\n",
    "if op == 1:\n",
    "    print(f\"\\nO maior valor é: {result}\")\n",
    "else:\n",
    "    print(f\"\\nO menor valor é: {result}\")\n"
   ]
  }
 ],
 "metadata": {
  "kernelspec": {
   "display_name": "Python 3",
   "language": "python",
   "name": "python3"
  },
  "language_info": {
   "codemirror_mode": {
    "name": "ipython",
    "version": 3
   },
   "file_extension": ".py",
   "mimetype": "text/x-python",
   "name": "python",
   "nbconvert_exporter": "python",
   "pygments_lexer": "ipython3",
   "version": "3.13.5"
  }
 },
 "nbformat": 4,
 "nbformat_minor": 5
}
